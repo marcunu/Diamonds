{
 "cells": [
  {
   "cell_type": "markdown",
   "metadata": {},
   "source": [
    "<img src=\"https://raw.githubusercontent.com/Ironhack-Data-Madrid-Marzo-2021/W7-Kaggle_competition/master/images/PORTADA.jpg\">"
   ]
  },
  {
   "cell_type": "markdown",
   "metadata": {},
   "source": [
    "# Import libraries"
   ]
  },
  {
   "cell_type": "code",
   "execution_count": 1,
   "metadata": {},
   "outputs": [],
   "source": [
    "import numpy as np\n",
    "import pandas as pd\n",
    "import src.limpieza as lm\n",
    "import pickle\n",
    "from sklearn import metrics"
   ]
  },
  {
   "cell_type": "markdown",
   "metadata": {},
   "source": [
    "# Import Data"
   ]
  },
  {
   "cell_type": "code",
   "execution_count": 2,
   "metadata": {},
   "outputs": [],
   "source": [
    "test = pd.read_csv(\"data/test_limpio_s.csv\")\n",
    "train = pd.read_csv(\"data/train_limpio_s.csv\")"
   ]
  },
  {
   "cell_type": "code",
   "execution_count": 3,
   "metadata": {},
   "outputs": [],
   "source": [
    "test = pd.read_csv(\"data/test_limpio.csv\")\n",
    "train = pd.read_csv(\"data/train_limpio.csv\")"
   ]
  },
  {
   "cell_type": "markdown",
   "metadata": {},
   "source": [
    "# Create target and feature columns"
   ]
  },
  {
   "cell_type": "code",
   "execution_count": 4,
   "metadata": {},
   "outputs": [],
   "source": [
    "from sklearn.model_selection import train_test_split"
   ]
  },
  {
   "cell_type": "code",
   "execution_count": 5,
   "metadata": {},
   "outputs": [],
   "source": [
    "X = train.drop(\"price\", axis=1)\n",
    "y = train[\"price\"]"
   ]
  },
  {
   "cell_type": "code",
   "execution_count": 6,
   "metadata": {},
   "outputs": [],
   "source": [
    "X_train, X_test, y_train, y_test = train_test_split(X, y, test_size=0.2)"
   ]
  },
  {
   "cell_type": "code",
   "execution_count": 7,
   "metadata": {},
   "outputs": [
    {
     "data": {
      "text/plain": [
       "Unnamed: 0      int64\n",
       "id              int64\n",
       "carat         float64\n",
       "cut             int64\n",
       "color           int64\n",
       "clarity       float64\n",
       "depth         float64\n",
       "table         float64\n",
       "dtype: object"
      ]
     },
     "execution_count": 7,
     "metadata": {},
     "output_type": "execute_result"
    }
   ],
   "source": [
    "X_train.dtypes"
   ]
  },
  {
   "cell_type": "markdown",
   "metadata": {},
   "source": [
    "# Random Forest "
   ]
  },
  {
   "cell_type": "code",
   "execution_count": 8,
   "metadata": {},
   "outputs": [],
   "source": [
    "from sklearn.ensemble import RandomForestRegressor"
   ]
  },
  {
   "cell_type": "code",
   "execution_count": 9,
   "metadata": {},
   "outputs": [],
   "source": [
    "rfr = RandomForestRegressor()"
   ]
  },
  {
   "cell_type": "markdown",
   "metadata": {},
   "source": [
    "# Parameter Tuning\n",
    "Now that we have found the most efficient model, let's try the different `hyperparameters` to improve it."
   ]
  },
  {
   "cell_type": "code",
   "execution_count": 10,
   "metadata": {},
   "outputs": [],
   "source": [
    "from sklearn.model_selection import GridSearchCV"
   ]
  },
  {
   "cell_type": "code",
   "execution_count": 11,
   "metadata": {
    "scrolled": true
   },
   "outputs": [
    {
     "ename": "NameError",
     "evalue": "name 'best' is not defined",
     "output_type": "error",
     "traceback": [
      "\u001b[0;31m---------------------------------------------------------------------------\u001b[0m",
      "\u001b[0;31mNameError\u001b[0m                                 Traceback (most recent call last)",
      "\u001b[0;32m<ipython-input-11-377027ff61a3>\u001b[0m in \u001b[0;36m<module>\u001b[0;34m\u001b[0m\n\u001b[0;32m----> 1\u001b[0;31m \u001b[0mbest\u001b[0m\u001b[0;34m\u001b[0m\u001b[0;34m\u001b[0m\u001b[0m\n\u001b[0m",
      "\u001b[0;31mNameError\u001b[0m: name 'best' is not defined"
     ]
    }
   ],
   "source": [
    "best"
   ]
  },
  {
   "cell_type": "code",
   "execution_count": null,
   "metadata": {},
   "outputs": [],
   "source": [
    "parameters = {\n",
    " 'max_depth': [30,50,70],\n",
    " 'min_samples_leaf': [ 2, 5,7],\n",
    " 'min_samples_split': [80, 100, 150],\n",
    " 'n_estimators': [400,500,600]}"
   ]
  },
  {
   "cell_type": "code",
   "execution_count": 25,
   "metadata": {},
   "outputs": [],
   "source": [
    "parameters = {'bootstrap': [True],\n",
    " 'max_depth': [65,75],\n",
    " 'max_features': ['auto'],\n",
    " 'min_samples_leaf': [4,6],\n",
    " 'min_samples_split': [20,50],\n",
    " 'n_estimators': [500,600]}"
   ]
  },
  {
   "cell_type": "code",
   "execution_count": 33,
   "metadata": {},
   "outputs": [],
   "source": [
    "parameters = {'bootstrap': [True],\n",
    " 'max_depth': [80,90],\n",
    " 'max_features': ['auto'],\n",
    " 'min_samples_leaf': [2,3],\n",
    " 'min_samples_split': [15,20],\n",
    " 'n_estimators': [450,550]}"
   ]
  },
  {
   "cell_type": "code",
   "execution_count": 34,
   "metadata": {},
   "outputs": [],
   "source": [
    "gs = GridSearchCV(estimator = rfr,\n",
    "                  param_grid = parameters,\n",
    "                 cv = 3,\n",
    "                 verbose = 3,\n",
    "                 scoring = \"neg_mean_squared_error\",\n",
    "                 return_train_score=True)"
   ]
  },
  {
   "cell_type": "code",
   "execution_count": 35,
   "metadata": {},
   "outputs": [
    {
     "name": "stdout",
     "output_type": "stream",
     "text": [
      "Fitting 3 folds for each of 16 candidates, totalling 48 fits\n",
      "[CV 1/3] END bootstrap=True, max_depth=80, max_features=auto, min_samples_leaf=2, min_samples_split=15, n_estimators=450; total time=  25.0s\n",
      "[CV 2/3] END bootstrap=True, max_depth=80, max_features=auto, min_samples_leaf=2, min_samples_split=15, n_estimators=450; total time=  24.3s\n",
      "[CV 3/3] END bootstrap=True, max_depth=80, max_features=auto, min_samples_leaf=2, min_samples_split=15, n_estimators=450; total time=  23.6s\n",
      "[CV 1/3] END bootstrap=True, max_depth=80, max_features=auto, min_samples_leaf=2, min_samples_split=15, n_estimators=550; total time=  28.8s\n",
      "[CV 2/3] END bootstrap=True, max_depth=80, max_features=auto, min_samples_leaf=2, min_samples_split=15, n_estimators=550; total time=  29.3s\n",
      "[CV 3/3] END bootstrap=True, max_depth=80, max_features=auto, min_samples_leaf=2, min_samples_split=15, n_estimators=550; total time=  29.0s\n",
      "[CV 1/3] END bootstrap=True, max_depth=80, max_features=auto, min_samples_leaf=2, min_samples_split=20, n_estimators=450; total time=  22.7s\n",
      "[CV 2/3] END bootstrap=True, max_depth=80, max_features=auto, min_samples_leaf=2, min_samples_split=20, n_estimators=450; total time=  22.5s\n",
      "[CV 3/3] END bootstrap=True, max_depth=80, max_features=auto, min_samples_leaf=2, min_samples_split=20, n_estimators=450; total time=  23.6s\n",
      "[CV 1/3] END bootstrap=True, max_depth=80, max_features=auto, min_samples_leaf=2, min_samples_split=20, n_estimators=550; total time=  28.9s\n",
      "[CV 2/3] END bootstrap=True, max_depth=80, max_features=auto, min_samples_leaf=2, min_samples_split=20, n_estimators=550; total time=  30.8s\n",
      "[CV 3/3] END bootstrap=True, max_depth=80, max_features=auto, min_samples_leaf=2, min_samples_split=20, n_estimators=550; total time=  29.5s\n",
      "[CV 1/3] END bootstrap=True, max_depth=80, max_features=auto, min_samples_leaf=3, min_samples_split=15, n_estimators=450; total time=  24.0s\n",
      "[CV 2/3] END bootstrap=True, max_depth=80, max_features=auto, min_samples_leaf=3, min_samples_split=15, n_estimators=450; total time=  23.6s\n",
      "[CV 3/3] END bootstrap=True, max_depth=80, max_features=auto, min_samples_leaf=3, min_samples_split=15, n_estimators=450; total time=  23.6s\n",
      "[CV 1/3] END bootstrap=True, max_depth=80, max_features=auto, min_samples_leaf=3, min_samples_split=15, n_estimators=550; total time=  28.6s\n",
      "[CV 2/3] END bootstrap=True, max_depth=80, max_features=auto, min_samples_leaf=3, min_samples_split=15, n_estimators=550; total time=  28.8s\n",
      "[CV 3/3] END bootstrap=True, max_depth=80, max_features=auto, min_samples_leaf=3, min_samples_split=15, n_estimators=550; total time=  28.7s\n",
      "[CV 1/3] END bootstrap=True, max_depth=80, max_features=auto, min_samples_leaf=3, min_samples_split=20, n_estimators=450; total time=  22.7s\n",
      "[CV 2/3] END bootstrap=True, max_depth=80, max_features=auto, min_samples_leaf=3, min_samples_split=20, n_estimators=450; total time=  23.1s\n",
      "[CV 3/3] END bootstrap=True, max_depth=80, max_features=auto, min_samples_leaf=3, min_samples_split=20, n_estimators=450; total time=  22.7s\n",
      "[CV 1/3] END bootstrap=True, max_depth=80, max_features=auto, min_samples_leaf=3, min_samples_split=20, n_estimators=550; total time=  28.2s\n",
      "[CV 2/3] END bootstrap=True, max_depth=80, max_features=auto, min_samples_leaf=3, min_samples_split=20, n_estimators=550; total time=  28.0s\n",
      "[CV 3/3] END bootstrap=True, max_depth=80, max_features=auto, min_samples_leaf=3, min_samples_split=20, n_estimators=550; total time=  27.9s\n",
      "[CV 1/3] END bootstrap=True, max_depth=90, max_features=auto, min_samples_leaf=2, min_samples_split=15, n_estimators=450; total time=  23.9s\n",
      "[CV 2/3] END bootstrap=True, max_depth=90, max_features=auto, min_samples_leaf=2, min_samples_split=15, n_estimators=450; total time=  24.0s\n",
      "[CV 3/3] END bootstrap=True, max_depth=90, max_features=auto, min_samples_leaf=2, min_samples_split=15, n_estimators=450; total time=  24.0s\n",
      "[CV 1/3] END bootstrap=True, max_depth=90, max_features=auto, min_samples_leaf=2, min_samples_split=15, n_estimators=550; total time=  29.3s\n",
      "[CV 2/3] END bootstrap=True, max_depth=90, max_features=auto, min_samples_leaf=2, min_samples_split=15, n_estimators=550; total time=  29.2s\n",
      "[CV 3/3] END bootstrap=True, max_depth=90, max_features=auto, min_samples_leaf=2, min_samples_split=15, n_estimators=550; total time=  29.4s\n",
      "[CV 1/3] END bootstrap=True, max_depth=90, max_features=auto, min_samples_leaf=2, min_samples_split=20, n_estimators=450; total time=  23.1s\n",
      "[CV 2/3] END bootstrap=True, max_depth=90, max_features=auto, min_samples_leaf=2, min_samples_split=20, n_estimators=450; total time=  23.1s\n",
      "[CV 3/3] END bootstrap=True, max_depth=90, max_features=auto, min_samples_leaf=2, min_samples_split=20, n_estimators=450; total time=  23.2s\n",
      "[CV 1/3] END bootstrap=True, max_depth=90, max_features=auto, min_samples_leaf=2, min_samples_split=20, n_estimators=550; total time=  28.1s\n",
      "[CV 2/3] END bootstrap=True, max_depth=90, max_features=auto, min_samples_leaf=2, min_samples_split=20, n_estimators=550; total time=  28.4s\n",
      "[CV 3/3] END bootstrap=True, max_depth=90, max_features=auto, min_samples_leaf=2, min_samples_split=20, n_estimators=550; total time=  28.3s\n",
      "[CV 1/3] END bootstrap=True, max_depth=90, max_features=auto, min_samples_leaf=3, min_samples_split=15, n_estimators=450; total time=  23.5s\n",
      "[CV 2/3] END bootstrap=True, max_depth=90, max_features=auto, min_samples_leaf=3, min_samples_split=15, n_estimators=450; total time=  23.6s\n",
      "[CV 3/3] END bootstrap=True, max_depth=90, max_features=auto, min_samples_leaf=3, min_samples_split=15, n_estimators=450; total time=  23.7s\n",
      "[CV 1/3] END bootstrap=True, max_depth=90, max_features=auto, min_samples_leaf=3, min_samples_split=15, n_estimators=550; total time=  29.0s\n",
      "[CV 2/3] END bootstrap=True, max_depth=90, max_features=auto, min_samples_leaf=3, min_samples_split=15, n_estimators=550; total time=  28.9s\n",
      "[CV 3/3] END bootstrap=True, max_depth=90, max_features=auto, min_samples_leaf=3, min_samples_split=15, n_estimators=550; total time=  28.8s\n",
      "[CV 1/3] END bootstrap=True, max_depth=90, max_features=auto, min_samples_leaf=3, min_samples_split=20, n_estimators=450; total time=  22.7s\n",
      "[CV 2/3] END bootstrap=True, max_depth=90, max_features=auto, min_samples_leaf=3, min_samples_split=20, n_estimators=450; total time=  23.0s\n",
      "[CV 3/3] END bootstrap=True, max_depth=90, max_features=auto, min_samples_leaf=3, min_samples_split=20, n_estimators=450; total time=  22.8s\n",
      "[CV 1/3] END bootstrap=True, max_depth=90, max_features=auto, min_samples_leaf=3, min_samples_split=20, n_estimators=550; total time=  27.7s\n",
      "[CV 2/3] END bootstrap=True, max_depth=90, max_features=auto, min_samples_leaf=3, min_samples_split=20, n_estimators=550; total time=  27.8s\n",
      "[CV 3/3] END bootstrap=True, max_depth=90, max_features=auto, min_samples_leaf=3, min_samples_split=20, n_estimators=550; total time=  27.9s\n"
     ]
    },
    {
     "data": {
      "text/plain": [
       "GridSearchCV(cv=3, estimator=RandomForestRegressor(),\n",
       "             param_grid={'bootstrap': [True], 'max_depth': [80, 90],\n",
       "                         'max_features': ['auto'], 'min_samples_leaf': [2, 3],\n",
       "                         'min_samples_split': [15, 20],\n",
       "                         'n_estimators': [450, 550]},\n",
       "             return_train_score=True, scoring='neg_mean_squared_error',\n",
       "             verbose=3)"
      ]
     },
     "execution_count": 35,
     "metadata": {},
     "output_type": "execute_result"
    }
   ],
   "source": [
    "gs.fit(X_train, y_train)"
   ]
  },
  {
   "cell_type": "markdown",
   "metadata": {},
   "source": [
    "# Hora ==> 16:40"
   ]
  },
  {
   "cell_type": "code",
   "execution_count": 41,
   "metadata": {},
   "outputs": [
    {
     "data": {
      "text/html": [
       "<div>\n",
       "<style scoped>\n",
       "    .dataframe tbody tr th:only-of-type {\n",
       "        vertical-align: middle;\n",
       "    }\n",
       "\n",
       "    .dataframe tbody tr th {\n",
       "        vertical-align: top;\n",
       "    }\n",
       "\n",
       "    .dataframe thead th {\n",
       "        text-align: right;\n",
       "    }\n",
       "</style>\n",
       "<table border=\"1\" class=\"dataframe\">\n",
       "  <thead>\n",
       "    <tr style=\"text-align: right;\">\n",
       "      <th></th>\n",
       "      <th>mean_fit_time</th>\n",
       "      <th>std_fit_time</th>\n",
       "      <th>mean_score_time</th>\n",
       "      <th>std_score_time</th>\n",
       "      <th>param_bootstrap</th>\n",
       "      <th>param_max_depth</th>\n",
       "      <th>param_max_features</th>\n",
       "      <th>param_min_samples_leaf</th>\n",
       "      <th>param_min_samples_split</th>\n",
       "      <th>param_n_estimators</th>\n",
       "      <th>...</th>\n",
       "      <th>split1_test_score</th>\n",
       "      <th>split2_test_score</th>\n",
       "      <th>mean_test_score</th>\n",
       "      <th>std_test_score</th>\n",
       "      <th>rank_test_score</th>\n",
       "      <th>split0_train_score</th>\n",
       "      <th>split1_train_score</th>\n",
       "      <th>split2_train_score</th>\n",
       "      <th>mean_train_score</th>\n",
       "      <th>std_train_score</th>\n",
       "    </tr>\n",
       "  </thead>\n",
       "  <tbody>\n",
       "    <tr>\n",
       "      <th>0</th>\n",
       "      <td>23.715171</td>\n",
       "      <td>0.509603</td>\n",
       "      <td>0.602577</td>\n",
       "      <td>0.037966</td>\n",
       "      <td>True</td>\n",
       "      <td>80</td>\n",
       "      <td>auto</td>\n",
       "      <td>2</td>\n",
       "      <td>15</td>\n",
       "      <td>450</td>\n",
       "      <td>...</td>\n",
       "      <td>-0.011280</td>\n",
       "      <td>-0.011099</td>\n",
       "      <td>-0.011146</td>\n",
       "      <td>0.000096</td>\n",
       "      <td>4</td>\n",
       "      <td>-0.006115</td>\n",
       "      <td>-0.006118</td>\n",
       "      <td>-0.006149</td>\n",
       "      <td>-0.006127</td>\n",
       "      <td>0.000015</td>\n",
       "    </tr>\n",
       "    <tr>\n",
       "      <th>1</th>\n",
       "      <td>28.335183</td>\n",
       "      <td>0.191667</td>\n",
       "      <td>0.713911</td>\n",
       "      <td>0.022506</td>\n",
       "      <td>True</td>\n",
       "      <td>80</td>\n",
       "      <td>auto</td>\n",
       "      <td>2</td>\n",
       "      <td>15</td>\n",
       "      <td>550</td>\n",
       "      <td>...</td>\n",
       "      <td>-0.011257</td>\n",
       "      <td>-0.011105</td>\n",
       "      <td>-0.011142</td>\n",
       "      <td>0.000083</td>\n",
       "      <td>3</td>\n",
       "      <td>-0.006123</td>\n",
       "      <td>-0.006113</td>\n",
       "      <td>-0.006158</td>\n",
       "      <td>-0.006131</td>\n",
       "      <td>0.000019</td>\n",
       "    </tr>\n",
       "    <tr>\n",
       "      <th>2</th>\n",
       "      <td>22.355505</td>\n",
       "      <td>0.450224</td>\n",
       "      <td>0.565370</td>\n",
       "      <td>0.030257</td>\n",
       "      <td>True</td>\n",
       "      <td>80</td>\n",
       "      <td>auto</td>\n",
       "      <td>2</td>\n",
       "      <td>20</td>\n",
       "      <td>450</td>\n",
       "      <td>...</td>\n",
       "      <td>-0.011350</td>\n",
       "      <td>-0.011188</td>\n",
       "      <td>-0.011230</td>\n",
       "      <td>0.000086</td>\n",
       "      <td>10</td>\n",
       "      <td>-0.007030</td>\n",
       "      <td>-0.006998</td>\n",
       "      <td>-0.007072</td>\n",
       "      <td>-0.007033</td>\n",
       "      <td>0.000030</td>\n",
       "    </tr>\n",
       "    <tr>\n",
       "      <th>3</th>\n",
       "      <td>28.987895</td>\n",
       "      <td>0.746515</td>\n",
       "      <td>0.730784</td>\n",
       "      <td>0.042524</td>\n",
       "      <td>True</td>\n",
       "      <td>80</td>\n",
       "      <td>auto</td>\n",
       "      <td>2</td>\n",
       "      <td>20</td>\n",
       "      <td>550</td>\n",
       "      <td>...</td>\n",
       "      <td>-0.011346</td>\n",
       "      <td>-0.011188</td>\n",
       "      <td>-0.011228</td>\n",
       "      <td>0.000085</td>\n",
       "      <td>9</td>\n",
       "      <td>-0.007020</td>\n",
       "      <td>-0.007001</td>\n",
       "      <td>-0.007067</td>\n",
       "      <td>-0.007029</td>\n",
       "      <td>0.000028</td>\n",
       "    </tr>\n",
       "    <tr>\n",
       "      <th>4</th>\n",
       "      <td>23.169062</td>\n",
       "      <td>0.198014</td>\n",
       "      <td>0.580861</td>\n",
       "      <td>0.002408</td>\n",
       "      <td>True</td>\n",
       "      <td>80</td>\n",
       "      <td>auto</td>\n",
       "      <td>3</td>\n",
       "      <td>15</td>\n",
       "      <td>450</td>\n",
       "      <td>...</td>\n",
       "      <td>-0.011297</td>\n",
       "      <td>-0.011119</td>\n",
       "      <td>-0.011172</td>\n",
       "      <td>0.000089</td>\n",
       "      <td>6</td>\n",
       "      <td>-0.006475</td>\n",
       "      <td>-0.006468</td>\n",
       "      <td>-0.006503</td>\n",
       "      <td>-0.006482</td>\n",
       "      <td>0.000015</td>\n",
       "    </tr>\n",
       "  </tbody>\n",
       "</table>\n",
       "<p>5 rows × 22 columns</p>\n",
       "</div>"
      ],
      "text/plain": [
       "   mean_fit_time  std_fit_time  mean_score_time  std_score_time  \\\n",
       "0      23.715171      0.509603         0.602577        0.037966   \n",
       "1      28.335183      0.191667         0.713911        0.022506   \n",
       "2      22.355505      0.450224         0.565370        0.030257   \n",
       "3      28.987895      0.746515         0.730784        0.042524   \n",
       "4      23.169062      0.198014         0.580861        0.002408   \n",
       "\n",
       "  param_bootstrap param_max_depth param_max_features param_min_samples_leaf  \\\n",
       "0            True              80               auto                      2   \n",
       "1            True              80               auto                      2   \n",
       "2            True              80               auto                      2   \n",
       "3            True              80               auto                      2   \n",
       "4            True              80               auto                      3   \n",
       "\n",
       "  param_min_samples_split param_n_estimators  ... split1_test_score  \\\n",
       "0                      15                450  ...         -0.011280   \n",
       "1                      15                550  ...         -0.011257   \n",
       "2                      20                450  ...         -0.011350   \n",
       "3                      20                550  ...         -0.011346   \n",
       "4                      15                450  ...         -0.011297   \n",
       "\n",
       "   split2_test_score  mean_test_score  std_test_score  rank_test_score  \\\n",
       "0          -0.011099        -0.011146        0.000096                4   \n",
       "1          -0.011105        -0.011142        0.000083                3   \n",
       "2          -0.011188        -0.011230        0.000086               10   \n",
       "3          -0.011188        -0.011228        0.000085                9   \n",
       "4          -0.011119        -0.011172        0.000089                6   \n",
       "\n",
       "   split0_train_score  split1_train_score  split2_train_score  \\\n",
       "0           -0.006115           -0.006118           -0.006149   \n",
       "1           -0.006123           -0.006113           -0.006158   \n",
       "2           -0.007030           -0.006998           -0.007072   \n",
       "3           -0.007020           -0.007001           -0.007067   \n",
       "4           -0.006475           -0.006468           -0.006503   \n",
       "\n",
       "   mean_train_score  std_train_score  \n",
       "0         -0.006127         0.000015  \n",
       "1         -0.006131         0.000019  \n",
       "2         -0.007033         0.000030  \n",
       "3         -0.007029         0.000028  \n",
       "4         -0.006482         0.000015  \n",
       "\n",
       "[5 rows x 22 columns]"
      ]
     },
     "execution_count": 41,
     "metadata": {},
     "output_type": "execute_result"
    }
   ],
   "source": [
    "gs_results = pd.DataFrame(gs.cv_results_)\n",
    "gs_results.head()"
   ]
  },
  {
   "cell_type": "code",
   "execution_count": 42,
   "metadata": {},
   "outputs": [],
   "source": [
    "gs_results = gs_results[[\"param_bootstrap\",\"param_max_depth\",\"param_max_features\",\"param_min_samples_leaf\",\"param_min_samples_split\",\"param_n_estimators\",\"mean_test_score\",\"mean_train_score\"]]"
   ]
  },
  {
   "cell_type": "code",
   "execution_count": 43,
   "metadata": {},
   "outputs": [
    {
     "data": {
      "text/html": [
       "<div>\n",
       "<style scoped>\n",
       "    .dataframe tbody tr th:only-of-type {\n",
       "        vertical-align: middle;\n",
       "    }\n",
       "\n",
       "    .dataframe tbody tr th {\n",
       "        vertical-align: top;\n",
       "    }\n",
       "\n",
       "    .dataframe thead th {\n",
       "        text-align: right;\n",
       "    }\n",
       "</style>\n",
       "<table border=\"1\" class=\"dataframe\">\n",
       "  <thead>\n",
       "    <tr style=\"text-align: right;\">\n",
       "      <th></th>\n",
       "      <th>param_bootstrap</th>\n",
       "      <th>param_max_depth</th>\n",
       "      <th>param_max_features</th>\n",
       "      <th>param_min_samples_leaf</th>\n",
       "      <th>param_min_samples_split</th>\n",
       "      <th>param_n_estimators</th>\n",
       "      <th>mean_test_score</th>\n",
       "      <th>mean_train_score</th>\n",
       "    </tr>\n",
       "  </thead>\n",
       "  <tbody>\n",
       "    <tr>\n",
       "      <th>8</th>\n",
       "      <td>True</td>\n",
       "      <td>90</td>\n",
       "      <td>auto</td>\n",
       "      <td>2</td>\n",
       "      <td>15</td>\n",
       "      <td>450</td>\n",
       "      <td>-0.011133</td>\n",
       "      <td>-0.006128</td>\n",
       "    </tr>\n",
       "    <tr>\n",
       "      <th>9</th>\n",
       "      <td>True</td>\n",
       "      <td>90</td>\n",
       "      <td>auto</td>\n",
       "      <td>2</td>\n",
       "      <td>15</td>\n",
       "      <td>550</td>\n",
       "      <td>-0.011134</td>\n",
       "      <td>-0.006131</td>\n",
       "    </tr>\n",
       "    <tr>\n",
       "      <th>1</th>\n",
       "      <td>True</td>\n",
       "      <td>80</td>\n",
       "      <td>auto</td>\n",
       "      <td>2</td>\n",
       "      <td>15</td>\n",
       "      <td>550</td>\n",
       "      <td>-0.011142</td>\n",
       "      <td>-0.006131</td>\n",
       "    </tr>\n",
       "    <tr>\n",
       "      <th>0</th>\n",
       "      <td>True</td>\n",
       "      <td>80</td>\n",
       "      <td>auto</td>\n",
       "      <td>2</td>\n",
       "      <td>15</td>\n",
       "      <td>450</td>\n",
       "      <td>-0.011146</td>\n",
       "      <td>-0.006127</td>\n",
       "    </tr>\n",
       "    <tr>\n",
       "      <th>12</th>\n",
       "      <td>True</td>\n",
       "      <td>90</td>\n",
       "      <td>auto</td>\n",
       "      <td>3</td>\n",
       "      <td>15</td>\n",
       "      <td>450</td>\n",
       "      <td>-0.011166</td>\n",
       "      <td>-0.006478</td>\n",
       "    </tr>\n",
       "    <tr>\n",
       "      <th>4</th>\n",
       "      <td>True</td>\n",
       "      <td>80</td>\n",
       "      <td>auto</td>\n",
       "      <td>3</td>\n",
       "      <td>15</td>\n",
       "      <td>450</td>\n",
       "      <td>-0.011172</td>\n",
       "      <td>-0.006482</td>\n",
       "    </tr>\n",
       "    <tr>\n",
       "      <th>5</th>\n",
       "      <td>True</td>\n",
       "      <td>80</td>\n",
       "      <td>auto</td>\n",
       "      <td>3</td>\n",
       "      <td>15</td>\n",
       "      <td>550</td>\n",
       "      <td>-0.011175</td>\n",
       "      <td>-0.006478</td>\n",
       "    </tr>\n",
       "    <tr>\n",
       "      <th>13</th>\n",
       "      <td>True</td>\n",
       "      <td>90</td>\n",
       "      <td>auto</td>\n",
       "      <td>3</td>\n",
       "      <td>15</td>\n",
       "      <td>550</td>\n",
       "      <td>-0.011178</td>\n",
       "      <td>-0.006481</td>\n",
       "    </tr>\n",
       "    <tr>\n",
       "      <th>3</th>\n",
       "      <td>True</td>\n",
       "      <td>80</td>\n",
       "      <td>auto</td>\n",
       "      <td>2</td>\n",
       "      <td>20</td>\n",
       "      <td>550</td>\n",
       "      <td>-0.011228</td>\n",
       "      <td>-0.007029</td>\n",
       "    </tr>\n",
       "    <tr>\n",
       "      <th>2</th>\n",
       "      <td>True</td>\n",
       "      <td>80</td>\n",
       "      <td>auto</td>\n",
       "      <td>2</td>\n",
       "      <td>20</td>\n",
       "      <td>450</td>\n",
       "      <td>-0.011230</td>\n",
       "      <td>-0.007033</td>\n",
       "    </tr>\n",
       "  </tbody>\n",
       "</table>\n",
       "</div>"
      ],
      "text/plain": [
       "   param_bootstrap param_max_depth param_max_features param_min_samples_leaf  \\\n",
       "8             True              90               auto                      2   \n",
       "9             True              90               auto                      2   \n",
       "1             True              80               auto                      2   \n",
       "0             True              80               auto                      2   \n",
       "12            True              90               auto                      3   \n",
       "4             True              80               auto                      3   \n",
       "5             True              80               auto                      3   \n",
       "13            True              90               auto                      3   \n",
       "3             True              80               auto                      2   \n",
       "2             True              80               auto                      2   \n",
       "\n",
       "   param_min_samples_split param_n_estimators  mean_test_score  \\\n",
       "8                       15                450        -0.011133   \n",
       "9                       15                550        -0.011134   \n",
       "1                       15                550        -0.011142   \n",
       "0                       15                450        -0.011146   \n",
       "12                      15                450        -0.011166   \n",
       "4                       15                450        -0.011172   \n",
       "5                       15                550        -0.011175   \n",
       "13                      15                550        -0.011178   \n",
       "3                       20                550        -0.011228   \n",
       "2                       20                450        -0.011230   \n",
       "\n",
       "    mean_train_score  \n",
       "8          -0.006128  \n",
       "9          -0.006131  \n",
       "1          -0.006131  \n",
       "0          -0.006127  \n",
       "12         -0.006478  \n",
       "4          -0.006482  \n",
       "5          -0.006478  \n",
       "13         -0.006481  \n",
       "3          -0.007029  \n",
       "2          -0.007033  "
      ]
     },
     "execution_count": 43,
     "metadata": {},
     "output_type": "execute_result"
    }
   ],
   "source": [
    "gs_results.sort_values(\"mean_test_score\", ascending = False).head(10)"
   ]
  },
  {
   "cell_type": "code",
   "execution_count": 44,
   "metadata": {},
   "outputs": [
    {
     "data": {
      "text/plain": [
       "RandomForestRegressor(max_depth=90, min_samples_leaf=2, min_samples_split=15,\n",
       "                      n_estimators=450)"
      ]
     },
     "execution_count": 44,
     "metadata": {},
     "output_type": "execute_result"
    }
   ],
   "source": [
    "best = gs.best_estimator_\n",
    "best"
   ]
  },
  {
   "cell_type": "code",
   "execution_count": 45,
   "metadata": {},
   "outputs": [
    {
     "data": {
      "text/plain": [
       "0.010564121464047409"
      ]
     },
     "execution_count": 45,
     "metadata": {},
     "output_type": "execute_result"
    }
   ],
   "source": [
    "metrics.mean_squared_error(best.predict(X_test),y_test)"
   ]
  },
  {
   "cell_type": "code",
   "execution_count": 46,
   "metadata": {},
   "outputs": [],
   "source": [
    "pickle.dump(best,open(\"param/rf_b3_00923\", \"wb\"))"
   ]
  },
  {
   "cell_type": "code",
   "execution_count": null,
   "metadata": {},
   "outputs": [],
   "source": []
  }
 ],
 "metadata": {
  "kernelspec": {
   "display_name": "Python 3",
   "language": "python",
   "name": "python3"
  },
  "language_info": {
   "codemirror_mode": {
    "name": "ipython",
    "version": 3
   },
   "file_extension": ".py",
   "mimetype": "text/x-python",
   "name": "python",
   "nbconvert_exporter": "python",
   "pygments_lexer": "ipython3",
   "version": "3.8.5"
  }
 },
 "nbformat": 4,
 "nbformat_minor": 4
}
